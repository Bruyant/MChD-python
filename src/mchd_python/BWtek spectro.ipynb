{
 "cells": [
  {
   "cell_type": "code",
   "execution_count": 1,
   "id": "3f4f2b63",
   "metadata": {},
   "outputs": [
    {
     "name": "stdout",
     "output_type": "stream",
     "text": [
      "7fffffffffffffff True\n"
     ]
    }
   ],
   "source": [
    "import sys\n",
    "print(\"%x\" % sys.maxsize, sys.maxsize > 2**32)"
   ]
  },
  {
   "cell_type": "markdown",
   "id": "d3b8bb9e-63af-48f0-b587-11202d1b4527",
   "metadata": {},
   "source": [
    "## BWTEK spectro sandbox"
   ]
  },
  {
   "cell_type": "code",
   "execution_count": 45,
   "id": "762cee50",
   "metadata": {},
   "outputs": [
    {
     "data": {
      "text/plain": [
       "89444577"
      ]
     },
     "execution_count": 45,
     "metadata": {},
     "output_type": "execute_result"
    }
   ],
   "source": [
    "ct.windll.kernel32.GetTickCount64()"
   ]
  },
  {
   "cell_type": "code",
   "execution_count": 2,
   "id": "fa7e9415",
   "metadata": {},
   "outputs": [
    {
     "name": "stdout",
     "output_type": "stream",
     "text": [
      "Populating the interactive namespace from numpy and matplotlib\n"
     ]
    },
    {
     "name": "stderr",
     "output_type": "stream",
     "text": [
      "D:\\winpython3.7\\WPy64-37120\\pypy3.7-v7.3.7-win64\\site-packages\\IPython\\core\\magics\\pylab.py:160: UserWarning: pylab import has clobbered these variables: ['datetime']\n",
      "`%matplotlib` prevents importing * from pylab and numpy\n",
      "  \"\\n`%matplotlib` prevents importing * from pylab and numpy\"\n"
     ]
    }
   ],
   "source": [
    "import ctypes as ct\n",
    "from time import sleep\n",
    "from datetime import datetime\n",
    "lib = ct.cdll.LoadLibrary(\"./bwtek/BWTEKUSB.dll\")\n",
    "%pylab notebook"
   ]
  },
  {
   "cell_type": "code",
   "execution_count": 3,
   "id": "ed15c88f",
   "metadata": {},
   "outputs": [
    {
     "data": {
      "text/plain": [
       "True"
      ]
     },
     "execution_count": 3,
     "metadata": {},
     "output_type": "execute_result"
    }
   ],
   "source": [
    "lib.InitDevices.restype = ct.c_bool\n",
    "lib.InitDevices()"
   ]
  },
  {
   "cell_type": "code",
   "execution_count": 4,
   "id": "fac03307",
   "metadata": {},
   "outputs": [
    {
     "data": {
      "text/plain": [
       "1"
      ]
     },
     "execution_count": 4,
     "metadata": {},
     "output_type": "execute_result"
    }
   ],
   "source": [
    "lib.GetDeviceCount()"
   ]
  },
  {
   "cell_type": "code",
   "execution_count": 5,
   "id": "c4b33c69-16fa-48dd-a8f6-94165710b620",
   "metadata": {},
   "outputs": [
    {
     "name": "stdout",
     "output_type": "stream",
     "text": [
      "1\n"
     ]
    },
    {
     "data": {
      "text/plain": [
       "bytearray(b'\\x00\\xc7\\xc7\\xc7\\xc7\\xc7\\xc7\\xc7\\xc7\\xc7\\xc7\\xc7\\xc7\\xc7\\xc7\\xc7\\xc7\\xc7\\xc7\\xc7\\xc7\\xc7\\xc7\\xc7\\xc7\\xc7\\xc7\\xc7\\xc7\\xc7\\xc7\\xc7')"
      ]
     },
     "execution_count": 5,
     "metadata": {},
     "output_type": "execute_result"
    }
   ],
   "source": [
    "# get channels\n",
    "nChannelStatus=(ct.c_ubyte*32)()\n",
    "print(lib.bwtekSetupChannel( -1,ct.byref(nChannelStatus)))\n",
    "bs = bytearray(nChannelStatus)\n",
    "bs"
   ]
  },
  {
   "cell_type": "code",
   "execution_count": 5,
   "id": "1d56f009-dcf1-4475-8e48-3c2a066a0974",
   "metadata": {},
   "outputs": [
    {
     "data": {
      "text/plain": [
       "2"
      ]
     },
     "execution_count": 5,
     "metadata": {},
     "output_type": "execute_result"
    }
   ],
   "source": [
    "nUSBType = ct.c_int(1)\n",
    "lib.GetUSBType(ct.byref(nUSBType),0)\n",
    "nUSBType.value"
   ]
  },
  {
   "cell_type": "code",
   "execution_count": 31,
   "id": "8e45daaa-8ffb-4419-a542-6fbc2342f342",
   "metadata": {},
   "outputs": [
    {
     "data": {
      "text/plain": [
       "(1, b'para.txt')"
      ]
     },
     "execution_count": 31,
     "metadata": {},
     "output_type": "execute_result"
    }
   ],
   "source": [
    "# read eprom\n",
    "filename = ct.create_string_buffer(b\"para.txt\")\n",
    "r=lib.bwtekReadEEPROMUSB(filename,0)\n",
    "r,filename.value"
   ]
  },
  {
   "cell_type": "code",
   "execution_count": 40,
   "id": "91fee700-5037-4cf4-8abc-cc1cf3d1c5bf",
   "metadata": {},
   "outputs": [
    {
     "data": {
      "text/plain": [
       "1"
      ]
     },
     "execution_count": 40,
     "metadata": {},
     "output_type": "execute_result"
    }
   ],
   "source": [
    "# Get spectrometer parameters\n",
    "nTiming = ct.c_int(1)\n",
    "nPixelNo = ct.c_int(2048)\n",
    "nInputMode = ct.c_int(1)\n",
    "lib.bwtekTestUSB(nTiming,nPixelNo,nInputMode,0,None)"
   ]
  },
  {
   "cell_type": "code",
   "execution_count": 164,
   "id": "c2f05109",
   "metadata": {},
   "outputs": [
    {
     "data": {
      "text/plain": [
       "(c_double(1.8756103515625), c_long(3073))"
      ]
     },
     "execution_count": 164,
     "metadata": {},
     "output_type": "execute_result"
    }
   ],
   "source": [
    "#read analog voltage\n",
    "dVoltage = ct.c_double()\n",
    "nValue= ct.c_int32()\n",
    "lib.bwtekGetAnalogIn(0,ct.byref(nValue), ct.byref(dVoltage),0)\n",
    "dVoltage,nValue"
   ]
  },
  {
   "cell_type": "code",
   "execution_count": 16,
   "id": "62c18919",
   "metadata": {},
   "outputs": [
    {
     "data": {
      "text/plain": [
       "(c_double(200.0), c_long(4095))"
      ]
     },
     "execution_count": 16,
     "metadata": {},
     "output_type": "execute_result"
    }
   ],
   "source": [
    "# read temperature\n",
    "nADValue=ct.c_int32()\n",
    "nTemperature = ct.c_double()\n",
    "lib.bwtekReadTemperature(0x11,ct.byref(nADValue), ct.byref(nTemperature), 0)\n",
    "nTemperature,nADValue"
   ]
  },
  {
   "cell_type": "code",
   "execution_count": 306,
   "id": "d196f120-1ccb-4a01-be8f-7a29f0fc9f21",
   "metadata": {},
   "outputs": [],
   "source": [
    "import psutil, os\n",
    "p = psutil.Process(os.getpid())\n",
    "p.nice(psutil.HIGH_PRIORITY_CLASS)\n"
   ]
  },
  {
   "cell_type": "code",
   "execution_count": 307,
   "id": "190da36d-9a4c-4d42-a670-cd09db61713b",
   "metadata": {},
   "outputs": [
    {
     "data": {
      "text/plain": [
       "<Priority.HIGH_PRIORITY_CLASS: 128>"
      ]
     },
     "execution_count": 307,
     "metadata": {},
     "output_type": "execute_result"
    }
   ],
   "source": [
    "p.nice()"
   ]
  },
  {
   "cell_type": "code",
   "execution_count": null,
   "id": "0a57a524-100f-4d71-bf6c-b8d80740760d",
   "metadata": {},
   "outputs": [],
   "source": [
    "# set Integration time\n",
    "lTime=ct.c_long(5)\n",
    "lib.bwtekSetTimeUSB( lTime, 0)\n",
    "lTime"
   ]
  },
  {
   "cell_type": "code",
   "execution_count": 396,
   "id": "ef0ee8f1-0c6a-4b92-b6d6-b4fc99ee1e4d",
   "metadata": {},
   "outputs": [],
   "source": [
    "nTriggerMode=ct.c_int()\n",
    "pArray=(ct.c_ushort*2048)()\n",
    "\n",
    "p.nice(psutil.REALTIME_PRIORITY_CLASS)\n",
    "\n",
    "# read datas\n",
    "n=500\n",
    "delay=0.00\n",
    "\n",
    "sleep(1)\n",
    "res=np.zeros((2048,n))\n",
    "volts=np.zeros(n)\n",
    "ttlin=np.zeros(n)\n",
    "tstamps=np.zeros(n,dtype='datetime64[us]')\n",
    "tstamps0=np.zeros(n,dtype='datetime64[us]')\n",
    "for i in range(n):\n",
    "    tstamps0[i]=np.datetime64(datetime.datetime.now())\n",
    "    volts[i]=lib.bwtekGetExtStatus(0)\n",
    "    lib.bwtekDataReadUSB(0,ct.byref(pArray), 0)\n",
    "    #lib.bwtekGetAnalogIn(0,ct.byref(nValue), ct.byref(dVoltage),0)\n",
    "    res[:,i]=np.ctypeslib.as_array(pArray)\n",
    "    ttlin[i]=lib.bwtekGetExtStatus(0)\n",
    "    tstamps[i]= np.datetime64(datetime.datetime.now())\n",
    "    #sleep(delay)\n",
    "p.nice(psutil.NORMAL_PRIORITY_CLASS)    \n"
   ]
  },
  {
   "cell_type": "code",
   "execution_count": 397,
   "id": "203b971f-2635-4ecd-b3dd-0b5d89cce0da",
   "metadata": {},
   "outputs": [
    {
     "data": {
      "text/plain": [
       "[<matplotlib.lines.Line2D at 0x56ef2d40>]"
      ]
     },
     "execution_count": 397,
     "metadata": {},
     "output_type": "execute_result"
    },
    {
     "data": {
      "image/png": "[encoded data removed]",
      "text/plain": [
       "<Figure size 432x288 with 2 Axes>"
      ]
     },
     "metadata": {
      "needs_background": "light"
     },
     "output_type": "display_data"
    }
   ],
   "source": [
    "plot(tstamps,res[840,:],'r-+')\n",
    "plt.twinx()\n",
    "plot(tstamps,ttlin+volts,'-o')"
   ]
  },
  {
   "cell_type": "code",
   "execution_count": 398,
   "id": "267c9e52-d8bd-41e8-adf0-9784b26e006c",
   "metadata": {},
   "outputs": [
    {
     "data": {
      "text/plain": [
       "(5125.477326614956, numpy.timedelta64(14299,'us'), 14299.434)"
      ]
     },
     "execution_count": 398,
     "metadata": {},
     "output_type": "execute_result"
    },
    {
     "data": {
      "image/png": "[encoded data removed]",
      "text/plain": [
       "<Figure size 432x288 with 1 Axes>"
      ]
     },
     "metadata": {
      "needs_background": "light"
     },
     "output_type": "display_data"
    }
   ],
   "source": [
    "delta=tstamps-tstamps0\n",
    "plot(delta)\n",
    "np.std(delta.astype(int)),np.mean(delta),np.mean(delta.astype(int))"
   ]
  },
  {
   "cell_type": "code",
   "execution_count": 399,
   "id": "54e14a44-1026-4c21-ae5d-e1a57b377aec",
   "metadata": {},
   "outputs": [
    {
     "data": {
      "image/png": "[encoded data removed]",
      "text/plain": [
       "<Figure size 432x288 with 1 Axes>"
      ]
     },
     "metadata": {
      "needs_background": "light"
     },
     "output_type": "display_data"
    }
   ],
   "source": [
    "plot(np.arange(700,1000),res[700:1000,:]);"
   ]
  },
  {
   "cell_type": "code",
   "execution_count": 400,
   "id": "4219b854-cd48-430a-9023-25d4ed8cc4bd",
   "metadata": {},
   "outputs": [
    {
     "data": {
      "text/plain": [
       "<matplotlib.image.AxesImage at 0x67de9da8>"
      ]
     },
     "execution_count": 400,
     "metadata": {},
     "output_type": "execute_result"
    },
    {
     "data": {
      "image/png": "[encoded data removed]",
      "text/plain": [
       "<Figure size 432x288 with 1 Axes>"
      ]
     },
     "metadata": {
      "needs_background": "light"
     },
     "output_type": "display_data"
    }
   ],
   "source": [
    "imshow(res[::1,:].transpose())"
   ]
  },
  {
   "cell_type": "code",
   "execution_count": 401,
   "id": "2847fc86-083f-4bf9-9b34-ac6ff4c3fcc1",
   "metadata": {},
   "outputs": [
    {
     "data": {
      "text/plain": [
       "(254, 236)"
      ]
     },
     "execution_count": 401,
     "metadata": {},
     "output_type": "execute_result"
    }
   ],
   "source": [
    "#trow away edge samples\n",
    "low=np.where(ttlin+volts==0)[0]\n",
    "high=np.where(ttlin+volts==2)[0]\n",
    "size(low),size(high)"
   ]
  },
  {
   "cell_type": "code",
   "execution_count": 402,
   "id": "c7fc30fa-76a8-4abb-b5d8-bc9ea9ac89d6",
   "metadata": {},
   "outputs": [],
   "source": [
    "diff_spectra=-np.mean(res[:,low],axis=1)+np.mean(res[:,high],axis=1)"
   ]
  },
  {
   "cell_type": "code",
   "execution_count": 403,
   "id": "8bbf9e09-33d3-43c0-bfc7-ff927225750e",
   "metadata": {},
   "outputs": [
    {
     "data": {
      "text/plain": [
       "[<matplotlib.lines.Line2D at 0x6b80b360>]"
      ]
     },
     "execution_count": 403,
     "metadata": {},
     "output_type": "execute_result"
    },
    {
     "data": {
      "image/png": "[encoded data removed]",
      "text/plain": [
       "<Figure size 432x288 with 1 Axes>"
      ]
     },
     "metadata": {
      "needs_background": "light"
     },
     "output_type": "display_data"
    }
   ],
   "source": [
    "plot(np.mean(res[:,low],axis=1))\n",
    "plot(np.mean(res[:,high],axis=1))"
   ]
  },
  {
   "cell_type": "code",
   "execution_count": 404,
   "id": "5a4a4426-3ab2-4eec-9ad3-deb9c4c5bfa9",
   "metadata": {},
   "outputs": [
    {
     "data": {
      "text/plain": [
       "[<matplotlib.lines.Line2D at 0x67dd0a68>]"
      ]
     },
     "execution_count": 404,
     "metadata": {},
     "output_type": "execute_result"
    },
    {
     "data": {
      "image/png": "[encoded data removed]",
      "text/plain": [
       "<Figure size 432x288 with 1 Axes>"
      ]
     },
     "metadata": {
      "needs_background": "light"
     },
     "output_type": "display_data"
    }
   ],
   "source": [
    "plot(diff_spectra)"
   ]
  },
  {
   "cell_type": "code",
   "execution_count": 52,
   "id": "207c7973-8158-4b0d-ae16-806f78f90974",
   "metadata": {},
   "outputs": [
    {
     "data": {
      "text/plain": [
       "1"
      ]
     },
     "execution_count": 52,
     "metadata": {},
     "output_type": "execute_result"
    }
   ],
   "source": [
    "lib.CloseDevices()"
   ]
  },
  {
   "cell_type": "code",
   "execution_count": null,
   "id": "09356130-40a9-4503-9a0b-fe1f1c4ff7a2",
   "metadata": {},
   "outputs": [],
   "source": []
  }
 ],
 "metadata": {
  "kernelspec": {
   "display_name": "Python 3 (ipykernel)",
   "language": "python",
   "name": "python3"
  },
  "language_info": {
   "codemirror_mode": {
    "name": "ipython",
    "version": 3
   },
   "file_extension": ".py",
   "mimetype": "text/x-python",
   "name": "python",
   "nbconvert_exporter": "python",
   "pygments_lexer": "ipython3",
   "version": "3.7.12"
  }
 },
 "nbformat": 4,
 "nbformat_minor": 5
}
